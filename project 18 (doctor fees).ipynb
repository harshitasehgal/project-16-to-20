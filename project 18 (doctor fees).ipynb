{
 "cells": [
  {
   "cell_type": "code",
   "execution_count": 1,
   "metadata": {},
   "outputs": [],
   "source": [
    "import pandas as pd\n",
    "import numpy as np\n",
    "import pandas as pd\n",
    "import sklearn\n",
    "import seaborn as sns\n",
    "import matplotlib.pyplot as plt\n",
    "from sklearn.linear_model import LinearRegression\n",
    "from sklearn.metrics import mean_squared_error,mean_absolute_error\n",
    "from sklearn.model_selection import train_test_split\n",
    "from sklearn.model_selection import cross_val_score\n",
    "from sklearn.metrics import r2_score\n",
    "from sklearn.metrics import accuracy_score\n",
    "from sklearn.tree import DecisionTreeRegressor\n",
    "from sklearn.linear_model import LogisticRegression\n",
    "from sklearn import model_selection\n",
    "from sklearn.model_selection import KFold\n",
    "from sklearn.model_selection import LeaveOneOut\n",
    "from sklearn.model_selection import LeavePOut\n",
    "from sklearn.model_selection import ShuffleSplit\n",
    "from sklearn.model_selection import StratifiedKFold\n",
    "import warnings\n",
    "warnings.filterwarnings('ignore')"
   ]
  },
  {
   "cell_type": "code",
   "execution_count": 2,
   "metadata": {},
   "outputs": [],
   "source": [
    "df = pd.read_excel (r'C:\\Users\\COMP\\Desktop\\doctor_train.xlsx')#training dataset  \n",
    "df_test=pd.read_excel(r'C:\\Users\\COMP\\Desktop\\doctor_test.xlsx')#testing dataset\n",
    "doctor_df=df.append(df_test)"
   ]
  },
  {
   "cell_type": "code",
   "execution_count": 3,
   "metadata": {},
   "outputs": [
    {
     "data": {
      "text/html": [
       "<div>\n",
       "<style scoped>\n",
       "    .dataframe tbody tr th:only-of-type {\n",
       "        vertical-align: middle;\n",
       "    }\n",
       "\n",
       "    .dataframe tbody tr th {\n",
       "        vertical-align: top;\n",
       "    }\n",
       "\n",
       "    .dataframe thead th {\n",
       "        text-align: right;\n",
       "    }\n",
       "</style>\n",
       "<table border=\"1\" class=\"dataframe\">\n",
       "  <thead>\n",
       "    <tr style=\"text-align: right;\">\n",
       "      <th></th>\n",
       "      <th>Qualification</th>\n",
       "      <th>Experience</th>\n",
       "      <th>Rating</th>\n",
       "      <th>Place</th>\n",
       "      <th>Profile</th>\n",
       "      <th>Miscellaneous_Info</th>\n",
       "      <th>Fees</th>\n",
       "    </tr>\n",
       "  </thead>\n",
       "  <tbody>\n",
       "    <tr>\n",
       "      <td>0</td>\n",
       "      <td>BHMS, MD - Homeopathy</td>\n",
       "      <td>24 years experience</td>\n",
       "      <td>100%</td>\n",
       "      <td>Kakkanad, Ernakulam</td>\n",
       "      <td>Homeopath</td>\n",
       "      <td>100% 16 Feedback Kakkanad, Ernakulam</td>\n",
       "      <td>100</td>\n",
       "    </tr>\n",
       "    <tr>\n",
       "      <td>1</td>\n",
       "      <td>BAMS, MD - Ayurveda Medicine</td>\n",
       "      <td>12 years experience</td>\n",
       "      <td>98%</td>\n",
       "      <td>Whitefield, Bangalore</td>\n",
       "      <td>Ayurveda</td>\n",
       "      <td>98% 76 Feedback Whitefield, Bangalore</td>\n",
       "      <td>350</td>\n",
       "    </tr>\n",
       "    <tr>\n",
       "      <td>2</td>\n",
       "      <td>MBBS, MS - Otorhinolaryngology</td>\n",
       "      <td>9 years experience</td>\n",
       "      <td>NaN</td>\n",
       "      <td>Mathikere - BEL, Bangalore</td>\n",
       "      <td>ENT Specialist</td>\n",
       "      <td>NaN</td>\n",
       "      <td>300</td>\n",
       "    </tr>\n",
       "    <tr>\n",
       "      <td>3</td>\n",
       "      <td>BSc - Zoology, BAMS</td>\n",
       "      <td>12 years experience</td>\n",
       "      <td>NaN</td>\n",
       "      <td>Bannerghatta Road, Bangalore</td>\n",
       "      <td>Ayurveda</td>\n",
       "      <td>Bannerghatta Road, Bangalore ₹250 Available on...</td>\n",
       "      <td>250</td>\n",
       "    </tr>\n",
       "    <tr>\n",
       "      <td>4</td>\n",
       "      <td>BAMS</td>\n",
       "      <td>20 years experience</td>\n",
       "      <td>100%</td>\n",
       "      <td>Keelkattalai, Chennai</td>\n",
       "      <td>Ayurveda</td>\n",
       "      <td>100% 4 Feedback Keelkattalai, Chennai</td>\n",
       "      <td>250</td>\n",
       "    </tr>\n",
       "  </tbody>\n",
       "</table>\n",
       "</div>"
      ],
      "text/plain": [
       "                    Qualification           Experience Rating  \\\n",
       "0           BHMS, MD - Homeopathy  24 years experience   100%   \n",
       "1    BAMS, MD - Ayurveda Medicine  12 years experience    98%   \n",
       "2  MBBS, MS - Otorhinolaryngology   9 years experience    NaN   \n",
       "3             BSc - Zoology, BAMS  12 years experience    NaN   \n",
       "4                            BAMS  20 years experience   100%   \n",
       "\n",
       "                          Place         Profile  \\\n",
       "0           Kakkanad, Ernakulam       Homeopath   \n",
       "1         Whitefield, Bangalore        Ayurveda   \n",
       "2    Mathikere - BEL, Bangalore  ENT Specialist   \n",
       "3  Bannerghatta Road, Bangalore        Ayurveda   \n",
       "4         Keelkattalai, Chennai        Ayurveda   \n",
       "\n",
       "                                  Miscellaneous_Info  Fees  \n",
       "0               100% 16 Feedback Kakkanad, Ernakulam   100  \n",
       "1              98% 76 Feedback Whitefield, Bangalore   350  \n",
       "2                                                NaN   300  \n",
       "3  Bannerghatta Road, Bangalore ₹250 Available on...   250  \n",
       "4              100% 4 Feedback Keelkattalai, Chennai   250  "
      ]
     },
     "execution_count": 3,
     "metadata": {},
     "output_type": "execute_result"
    }
   ],
   "source": [
    "df.head()"
   ]
  },
  {
   "cell_type": "code",
   "execution_count": 4,
   "metadata": {},
   "outputs": [
    {
     "data": {
      "text/html": [
       "<div>\n",
       "<style scoped>\n",
       "    .dataframe tbody tr th:only-of-type {\n",
       "        vertical-align: middle;\n",
       "    }\n",
       "\n",
       "    .dataframe tbody tr th {\n",
       "        vertical-align: top;\n",
       "    }\n",
       "\n",
       "    .dataframe thead th {\n",
       "        text-align: right;\n",
       "    }\n",
       "</style>\n",
       "<table border=\"1\" class=\"dataframe\">\n",
       "  <thead>\n",
       "    <tr style=\"text-align: right;\">\n",
       "      <th></th>\n",
       "      <th>Qualification</th>\n",
       "      <th>Experience</th>\n",
       "      <th>Rating</th>\n",
       "      <th>Place</th>\n",
       "      <th>Profile</th>\n",
       "      <th>Miscellaneous_Info</th>\n",
       "    </tr>\n",
       "  </thead>\n",
       "  <tbody>\n",
       "    <tr>\n",
       "      <td>0</td>\n",
       "      <td>MBBS</td>\n",
       "      <td>35 years experience</td>\n",
       "      <td>NaN</td>\n",
       "      <td>Ghatkopar East, Mumbai</td>\n",
       "      <td>General Medicine</td>\n",
       "      <td>NaN</td>\n",
       "    </tr>\n",
       "    <tr>\n",
       "      <td>1</td>\n",
       "      <td>MBBS, Diploma in Otorhinolaryngology (DLO)</td>\n",
       "      <td>31 years experience</td>\n",
       "      <td>NaN</td>\n",
       "      <td>West Marredpally, Hyderabad</td>\n",
       "      <td>ENT Specialist</td>\n",
       "      <td>NaN</td>\n",
       "    </tr>\n",
       "    <tr>\n",
       "      <td>2</td>\n",
       "      <td>MBBS, DDVL</td>\n",
       "      <td>40 years experience</td>\n",
       "      <td>70%</td>\n",
       "      <td>KK Nagar, Chennai</td>\n",
       "      <td>Dermatologists</td>\n",
       "      <td>70% 4 Feedback KK Nagar, Chennai</td>\n",
       "    </tr>\n",
       "    <tr>\n",
       "      <td>3</td>\n",
       "      <td>BAMS</td>\n",
       "      <td>0 years experience</td>\n",
       "      <td>NaN</td>\n",
       "      <td>New Ashok Nagar, Delhi</td>\n",
       "      <td>Ayurveda</td>\n",
       "      <td>NaN</td>\n",
       "    </tr>\n",
       "    <tr>\n",
       "      <td>4</td>\n",
       "      <td>BDS, MDS - Conservative Dentistry &amp; Endodontics</td>\n",
       "      <td>16 years experience</td>\n",
       "      <td>100%</td>\n",
       "      <td>Kanakpura Road, Bangalore</td>\n",
       "      <td>Dentist</td>\n",
       "      <td>General Dentistry Conservative Dentistry Cosme...</td>\n",
       "    </tr>\n",
       "  </tbody>\n",
       "</table>\n",
       "</div>"
      ],
      "text/plain": [
       "                                     Qualification           Experience  \\\n",
       "0                                             MBBS  35 years experience   \n",
       "1       MBBS, Diploma in Otorhinolaryngology (DLO)  31 years experience   \n",
       "2                                       MBBS, DDVL  40 years experience   \n",
       "3                                             BAMS   0 years experience   \n",
       "4  BDS, MDS - Conservative Dentistry & Endodontics  16 years experience   \n",
       "\n",
       "  Rating                        Place           Profile  \\\n",
       "0    NaN       Ghatkopar East, Mumbai  General Medicine   \n",
       "1    NaN  West Marredpally, Hyderabad    ENT Specialist   \n",
       "2    70%            KK Nagar, Chennai    Dermatologists   \n",
       "3    NaN       New Ashok Nagar, Delhi          Ayurveda   \n",
       "4   100%    Kanakpura Road, Bangalore           Dentist   \n",
       "\n",
       "                                  Miscellaneous_Info  \n",
       "0                                                NaN  \n",
       "1                                                NaN  \n",
       "2                   70% 4 Feedback KK Nagar, Chennai  \n",
       "3                                                NaN  \n",
       "4  General Dentistry Conservative Dentistry Cosme...  "
      ]
     },
     "execution_count": 4,
     "metadata": {},
     "output_type": "execute_result"
    }
   ],
   "source": [
    "df_test.head()"
   ]
  },
  {
   "cell_type": "code",
   "execution_count": null,
   "metadata": {},
   "outputs": [],
   "source": []
  },
  {
   "cell_type": "code",
   "execution_count": 5,
   "metadata": {},
   "outputs": [
    {
     "data": {
      "text/html": [
       "<div>\n",
       "<style scoped>\n",
       "    .dataframe tbody tr th:only-of-type {\n",
       "        vertical-align: middle;\n",
       "    }\n",
       "\n",
       "    .dataframe tbody tr th {\n",
       "        vertical-align: top;\n",
       "    }\n",
       "\n",
       "    .dataframe thead th {\n",
       "        text-align: right;\n",
       "    }\n",
       "</style>\n",
       "<table border=\"1\" class=\"dataframe\">\n",
       "  <thead>\n",
       "    <tr style=\"text-align: right;\">\n",
       "      <th></th>\n",
       "      <th>Experience</th>\n",
       "      <th>Fees</th>\n",
       "      <th>Miscellaneous_Info</th>\n",
       "      <th>Place</th>\n",
       "      <th>Profile</th>\n",
       "      <th>Qualification</th>\n",
       "      <th>Rating</th>\n",
       "    </tr>\n",
       "  </thead>\n",
       "  <tbody>\n",
       "    <tr>\n",
       "      <td>0</td>\n",
       "      <td>24 years experience</td>\n",
       "      <td>100.0</td>\n",
       "      <td>100% 16 Feedback Kakkanad, Ernakulam</td>\n",
       "      <td>Kakkanad, Ernakulam</td>\n",
       "      <td>Homeopath</td>\n",
       "      <td>BHMS, MD - Homeopathy</td>\n",
       "      <td>100%</td>\n",
       "    </tr>\n",
       "    <tr>\n",
       "      <td>1</td>\n",
       "      <td>12 years experience</td>\n",
       "      <td>350.0</td>\n",
       "      <td>98% 76 Feedback Whitefield, Bangalore</td>\n",
       "      <td>Whitefield, Bangalore</td>\n",
       "      <td>Ayurveda</td>\n",
       "      <td>BAMS, MD - Ayurveda Medicine</td>\n",
       "      <td>98%</td>\n",
       "    </tr>\n",
       "    <tr>\n",
       "      <td>2</td>\n",
       "      <td>9 years experience</td>\n",
       "      <td>300.0</td>\n",
       "      <td>NaN</td>\n",
       "      <td>Mathikere - BEL, Bangalore</td>\n",
       "      <td>ENT Specialist</td>\n",
       "      <td>MBBS, MS - Otorhinolaryngology</td>\n",
       "      <td>NaN</td>\n",
       "    </tr>\n",
       "    <tr>\n",
       "      <td>3</td>\n",
       "      <td>12 years experience</td>\n",
       "      <td>250.0</td>\n",
       "      <td>Bannerghatta Road, Bangalore ₹250 Available on...</td>\n",
       "      <td>Bannerghatta Road, Bangalore</td>\n",
       "      <td>Ayurveda</td>\n",
       "      <td>BSc - Zoology, BAMS</td>\n",
       "      <td>NaN</td>\n",
       "    </tr>\n",
       "    <tr>\n",
       "      <td>4</td>\n",
       "      <td>20 years experience</td>\n",
       "      <td>250.0</td>\n",
       "      <td>100% 4 Feedback Keelkattalai, Chennai</td>\n",
       "      <td>Keelkattalai, Chennai</td>\n",
       "      <td>Ayurveda</td>\n",
       "      <td>BAMS</td>\n",
       "      <td>100%</td>\n",
       "    </tr>\n",
       "  </tbody>\n",
       "</table>\n",
       "</div>"
      ],
      "text/plain": [
       "            Experience   Fees  \\\n",
       "0  24 years experience  100.0   \n",
       "1  12 years experience  350.0   \n",
       "2   9 years experience  300.0   \n",
       "3  12 years experience  250.0   \n",
       "4  20 years experience  250.0   \n",
       "\n",
       "                                  Miscellaneous_Info  \\\n",
       "0               100% 16 Feedback Kakkanad, Ernakulam   \n",
       "1              98% 76 Feedback Whitefield, Bangalore   \n",
       "2                                                NaN   \n",
       "3  Bannerghatta Road, Bangalore ₹250 Available on...   \n",
       "4              100% 4 Feedback Keelkattalai, Chennai   \n",
       "\n",
       "                          Place         Profile  \\\n",
       "0           Kakkanad, Ernakulam       Homeopath   \n",
       "1         Whitefield, Bangalore        Ayurveda   \n",
       "2    Mathikere - BEL, Bangalore  ENT Specialist   \n",
       "3  Bannerghatta Road, Bangalore        Ayurveda   \n",
       "4         Keelkattalai, Chennai        Ayurveda   \n",
       "\n",
       "                    Qualification Rating  \n",
       "0           BHMS, MD - Homeopathy   100%  \n",
       "1    BAMS, MD - Ayurveda Medicine    98%  \n",
       "2  MBBS, MS - Otorhinolaryngology    NaN  \n",
       "3             BSc - Zoology, BAMS    NaN  \n",
       "4                            BAMS   100%  "
      ]
     },
     "execution_count": 5,
     "metadata": {},
     "output_type": "execute_result"
    }
   ],
   "source": [
    "doctor_df.head()"
   ]
  },
  {
   "cell_type": "code",
   "execution_count": 6,
   "metadata": {},
   "outputs": [
    {
     "data": {
      "text/plain": [
       "Qualification         object\n",
       "Experience            object\n",
       "Rating                object\n",
       "Place                 object\n",
       "Profile               object\n",
       "Miscellaneous_Info    object\n",
       "Fees                   int64\n",
       "dtype: object"
      ]
     },
     "execution_count": 6,
     "metadata": {},
     "output_type": "execute_result"
    }
   ],
   "source": [
    "df.dtypes"
   ]
  },
  {
   "cell_type": "code",
   "execution_count": 7,
   "metadata": {},
   "outputs": [
    {
     "data": {
      "text/plain": [
       "Experience              64\n",
       "Fees                    40\n",
       "Miscellaneous_Info    3980\n",
       "Place                  948\n",
       "Profile                  6\n",
       "Qualification         1801\n",
       "Rating                  52\n",
       "dtype: int64"
      ]
     },
     "execution_count": 7,
     "metadata": {},
     "output_type": "execute_result"
    }
   ],
   "source": [
    "doctor_df.nunique()"
   ]
  },
  {
   "cell_type": "code",
   "execution_count": 8,
   "metadata": {},
   "outputs": [
    {
     "data": {
      "text/html": [
       "<div>\n",
       "<style scoped>\n",
       "    .dataframe tbody tr th:only-of-type {\n",
       "        vertical-align: middle;\n",
       "    }\n",
       "\n",
       "    .dataframe tbody tr th {\n",
       "        vertical-align: top;\n",
       "    }\n",
       "\n",
       "    .dataframe thead th {\n",
       "        text-align: right;\n",
       "    }\n",
       "</style>\n",
       "<table border=\"1\" class=\"dataframe\">\n",
       "  <thead>\n",
       "    <tr style=\"text-align: right;\">\n",
       "      <th>Profile</th>\n",
       "      <th>Ayurveda</th>\n",
       "      <th>Dentist</th>\n",
       "      <th>Dermatologists</th>\n",
       "      <th>ENT Specialist</th>\n",
       "      <th>General Medicine</th>\n",
       "      <th>Homeopath</th>\n",
       "    </tr>\n",
       "    <tr>\n",
       "      <th>Rating</th>\n",
       "      <th></th>\n",
       "      <th></th>\n",
       "      <th></th>\n",
       "      <th></th>\n",
       "      <th></th>\n",
       "      <th></th>\n",
       "    </tr>\n",
       "  </thead>\n",
       "  <tbody>\n",
       "    <tr>\n",
       "      <td>100%</td>\n",
       "      <td>86</td>\n",
       "      <td>385</td>\n",
       "      <td>142</td>\n",
       "      <td>49</td>\n",
       "      <td>103</td>\n",
       "      <td>142</td>\n",
       "    </tr>\n",
       "    <tr>\n",
       "      <td>33%</td>\n",
       "      <td>0</td>\n",
       "      <td>0</td>\n",
       "      <td>1</td>\n",
       "      <td>1</td>\n",
       "      <td>0</td>\n",
       "      <td>0</td>\n",
       "    </tr>\n",
       "    <tr>\n",
       "      <td>36%</td>\n",
       "      <td>0</td>\n",
       "      <td>0</td>\n",
       "      <td>0</td>\n",
       "      <td>1</td>\n",
       "      <td>0</td>\n",
       "      <td>0</td>\n",
       "    </tr>\n",
       "    <tr>\n",
       "      <td>40%</td>\n",
       "      <td>0</td>\n",
       "      <td>0</td>\n",
       "      <td>0</td>\n",
       "      <td>0</td>\n",
       "      <td>1</td>\n",
       "      <td>0</td>\n",
       "    </tr>\n",
       "    <tr>\n",
       "      <td>45%</td>\n",
       "      <td>0</td>\n",
       "      <td>0</td>\n",
       "      <td>0</td>\n",
       "      <td>0</td>\n",
       "      <td>0</td>\n",
       "      <td>1</td>\n",
       "    </tr>\n",
       "    <tr>\n",
       "      <td>47%</td>\n",
       "      <td>0</td>\n",
       "      <td>0</td>\n",
       "      <td>0</td>\n",
       "      <td>1</td>\n",
       "      <td>0</td>\n",
       "      <td>0</td>\n",
       "    </tr>\n",
       "    <tr>\n",
       "      <td>48%</td>\n",
       "      <td>0</td>\n",
       "      <td>0</td>\n",
       "      <td>0</td>\n",
       "      <td>1</td>\n",
       "      <td>0</td>\n",
       "      <td>0</td>\n",
       "    </tr>\n",
       "    <tr>\n",
       "      <td>52%</td>\n",
       "      <td>0</td>\n",
       "      <td>0</td>\n",
       "      <td>0</td>\n",
       "      <td>1</td>\n",
       "      <td>0</td>\n",
       "      <td>0</td>\n",
       "    </tr>\n",
       "    <tr>\n",
       "      <td>53%</td>\n",
       "      <td>0</td>\n",
       "      <td>0</td>\n",
       "      <td>1</td>\n",
       "      <td>1</td>\n",
       "      <td>0</td>\n",
       "      <td>0</td>\n",
       "    </tr>\n",
       "    <tr>\n",
       "      <td>55%</td>\n",
       "      <td>0</td>\n",
       "      <td>0</td>\n",
       "      <td>0</td>\n",
       "      <td>4</td>\n",
       "      <td>1</td>\n",
       "      <td>0</td>\n",
       "    </tr>\n",
       "    <tr>\n",
       "      <td>56%</td>\n",
       "      <td>0</td>\n",
       "      <td>0</td>\n",
       "      <td>2</td>\n",
       "      <td>2</td>\n",
       "      <td>1</td>\n",
       "      <td>0</td>\n",
       "    </tr>\n",
       "    <tr>\n",
       "      <td>57%</td>\n",
       "      <td>0</td>\n",
       "      <td>0</td>\n",
       "      <td>0</td>\n",
       "      <td>2</td>\n",
       "      <td>1</td>\n",
       "      <td>0</td>\n",
       "    </tr>\n",
       "    <tr>\n",
       "      <td>58%</td>\n",
       "      <td>0</td>\n",
       "      <td>0</td>\n",
       "      <td>0</td>\n",
       "      <td>1</td>\n",
       "      <td>0</td>\n",
       "      <td>0</td>\n",
       "    </tr>\n",
       "    <tr>\n",
       "      <td>60%</td>\n",
       "      <td>1</td>\n",
       "      <td>0</td>\n",
       "      <td>0</td>\n",
       "      <td>8</td>\n",
       "      <td>2</td>\n",
       "      <td>0</td>\n",
       "    </tr>\n",
       "    <tr>\n",
       "      <td>62%</td>\n",
       "      <td>0</td>\n",
       "      <td>0</td>\n",
       "      <td>0</td>\n",
       "      <td>1</td>\n",
       "      <td>1</td>\n",
       "      <td>0</td>\n",
       "    </tr>\n",
       "    <tr>\n",
       "      <td>63%</td>\n",
       "      <td>0</td>\n",
       "      <td>0</td>\n",
       "      <td>2</td>\n",
       "      <td>0</td>\n",
       "      <td>0</td>\n",
       "      <td>0</td>\n",
       "    </tr>\n",
       "    <tr>\n",
       "      <td>64%</td>\n",
       "      <td>0</td>\n",
       "      <td>0</td>\n",
       "      <td>1</td>\n",
       "      <td>3</td>\n",
       "      <td>0</td>\n",
       "      <td>0</td>\n",
       "    </tr>\n",
       "    <tr>\n",
       "      <td>65%</td>\n",
       "      <td>0</td>\n",
       "      <td>0</td>\n",
       "      <td>0</td>\n",
       "      <td>0</td>\n",
       "      <td>2</td>\n",
       "      <td>0</td>\n",
       "    </tr>\n",
       "    <tr>\n",
       "      <td>67%</td>\n",
       "      <td>1</td>\n",
       "      <td>0</td>\n",
       "      <td>1</td>\n",
       "      <td>7</td>\n",
       "      <td>7</td>\n",
       "      <td>1</td>\n",
       "    </tr>\n",
       "    <tr>\n",
       "      <td>68%</td>\n",
       "      <td>0</td>\n",
       "      <td>0</td>\n",
       "      <td>3</td>\n",
       "      <td>1</td>\n",
       "      <td>1</td>\n",
       "      <td>0</td>\n",
       "    </tr>\n",
       "    <tr>\n",
       "      <td>69%</td>\n",
       "      <td>0</td>\n",
       "      <td>0</td>\n",
       "      <td>2</td>\n",
       "      <td>4</td>\n",
       "      <td>0</td>\n",
       "      <td>0</td>\n",
       "    </tr>\n",
       "    <tr>\n",
       "      <td>7%</td>\n",
       "      <td>0</td>\n",
       "      <td>0</td>\n",
       "      <td>0</td>\n",
       "      <td>0</td>\n",
       "      <td>1</td>\n",
       "      <td>0</td>\n",
       "    </tr>\n",
       "    <tr>\n",
       "      <td>70%</td>\n",
       "      <td>0</td>\n",
       "      <td>0</td>\n",
       "      <td>4</td>\n",
       "      <td>2</td>\n",
       "      <td>2</td>\n",
       "      <td>0</td>\n",
       "    </tr>\n",
       "    <tr>\n",
       "      <td>71%</td>\n",
       "      <td>0</td>\n",
       "      <td>0</td>\n",
       "      <td>8</td>\n",
       "      <td>2</td>\n",
       "      <td>5</td>\n",
       "      <td>1</td>\n",
       "    </tr>\n",
       "    <tr>\n",
       "      <td>72%</td>\n",
       "      <td>0</td>\n",
       "      <td>0</td>\n",
       "      <td>0</td>\n",
       "      <td>1</td>\n",
       "      <td>2</td>\n",
       "      <td>0</td>\n",
       "    </tr>\n",
       "    <tr>\n",
       "      <td>73%</td>\n",
       "      <td>0</td>\n",
       "      <td>0</td>\n",
       "      <td>2</td>\n",
       "      <td>2</td>\n",
       "      <td>9</td>\n",
       "      <td>0</td>\n",
       "    </tr>\n",
       "    <tr>\n",
       "      <td>74%</td>\n",
       "      <td>0</td>\n",
       "      <td>0</td>\n",
       "      <td>1</td>\n",
       "      <td>3</td>\n",
       "      <td>3</td>\n",
       "      <td>0</td>\n",
       "    </tr>\n",
       "    <tr>\n",
       "      <td>75%</td>\n",
       "      <td>0</td>\n",
       "      <td>1</td>\n",
       "      <td>4</td>\n",
       "      <td>1</td>\n",
       "      <td>1</td>\n",
       "      <td>1</td>\n",
       "    </tr>\n",
       "    <tr>\n",
       "      <td>76%</td>\n",
       "      <td>0</td>\n",
       "      <td>0</td>\n",
       "      <td>3</td>\n",
       "      <td>3</td>\n",
       "      <td>6</td>\n",
       "      <td>1</td>\n",
       "    </tr>\n",
       "    <tr>\n",
       "      <td>77%</td>\n",
       "      <td>1</td>\n",
       "      <td>0</td>\n",
       "      <td>7</td>\n",
       "      <td>5</td>\n",
       "      <td>4</td>\n",
       "      <td>0</td>\n",
       "    </tr>\n",
       "    <tr>\n",
       "      <td>78%</td>\n",
       "      <td>0</td>\n",
       "      <td>0</td>\n",
       "      <td>4</td>\n",
       "      <td>3</td>\n",
       "      <td>0</td>\n",
       "      <td>0</td>\n",
       "    </tr>\n",
       "    <tr>\n",
       "      <td>79%</td>\n",
       "      <td>0</td>\n",
       "      <td>0</td>\n",
       "      <td>7</td>\n",
       "      <td>3</td>\n",
       "      <td>5</td>\n",
       "      <td>0</td>\n",
       "    </tr>\n",
       "    <tr>\n",
       "      <td>80%</td>\n",
       "      <td>0</td>\n",
       "      <td>0</td>\n",
       "      <td>9</td>\n",
       "      <td>6</td>\n",
       "      <td>9</td>\n",
       "      <td>2</td>\n",
       "    </tr>\n",
       "    <tr>\n",
       "      <td>81%</td>\n",
       "      <td>1</td>\n",
       "      <td>0</td>\n",
       "      <td>4</td>\n",
       "      <td>5</td>\n",
       "      <td>5</td>\n",
       "      <td>0</td>\n",
       "    </tr>\n",
       "    <tr>\n",
       "      <td>82%</td>\n",
       "      <td>2</td>\n",
       "      <td>3</td>\n",
       "      <td>6</td>\n",
       "      <td>8</td>\n",
       "      <td>11</td>\n",
       "      <td>2</td>\n",
       "    </tr>\n",
       "    <tr>\n",
       "      <td>83%</td>\n",
       "      <td>0</td>\n",
       "      <td>1</td>\n",
       "      <td>7</td>\n",
       "      <td>8</td>\n",
       "      <td>10</td>\n",
       "      <td>6</td>\n",
       "    </tr>\n",
       "    <tr>\n",
       "      <td>84%</td>\n",
       "      <td>0</td>\n",
       "      <td>0</td>\n",
       "      <td>9</td>\n",
       "      <td>5</td>\n",
       "      <td>5</td>\n",
       "      <td>1</td>\n",
       "    </tr>\n",
       "    <tr>\n",
       "      <td>85%</td>\n",
       "      <td>3</td>\n",
       "      <td>2</td>\n",
       "      <td>14</td>\n",
       "      <td>8</td>\n",
       "      <td>6</td>\n",
       "      <td>2</td>\n",
       "    </tr>\n",
       "    <tr>\n",
       "      <td>86%</td>\n",
       "      <td>1</td>\n",
       "      <td>3</td>\n",
       "      <td>12</td>\n",
       "      <td>5</td>\n",
       "      <td>5</td>\n",
       "      <td>1</td>\n",
       "    </tr>\n",
       "    <tr>\n",
       "      <td>87%</td>\n",
       "      <td>3</td>\n",
       "      <td>0</td>\n",
       "      <td>11</td>\n",
       "      <td>3</td>\n",
       "      <td>7</td>\n",
       "      <td>1</td>\n",
       "    </tr>\n",
       "    <tr>\n",
       "      <td>88%</td>\n",
       "      <td>8</td>\n",
       "      <td>4</td>\n",
       "      <td>17</td>\n",
       "      <td>10</td>\n",
       "      <td>11</td>\n",
       "      <td>4</td>\n",
       "    </tr>\n",
       "    <tr>\n",
       "      <td>89%</td>\n",
       "      <td>0</td>\n",
       "      <td>3</td>\n",
       "      <td>25</td>\n",
       "      <td>15</td>\n",
       "      <td>9</td>\n",
       "      <td>1</td>\n",
       "    </tr>\n",
       "    <tr>\n",
       "      <td>90%</td>\n",
       "      <td>6</td>\n",
       "      <td>16</td>\n",
       "      <td>28</td>\n",
       "      <td>21</td>\n",
       "      <td>20</td>\n",
       "      <td>4</td>\n",
       "    </tr>\n",
       "    <tr>\n",
       "      <td>91%</td>\n",
       "      <td>6</td>\n",
       "      <td>11</td>\n",
       "      <td>27</td>\n",
       "      <td>25</td>\n",
       "      <td>12</td>\n",
       "      <td>5</td>\n",
       "    </tr>\n",
       "    <tr>\n",
       "      <td>92%</td>\n",
       "      <td>5</td>\n",
       "      <td>14</td>\n",
       "      <td>24</td>\n",
       "      <td>16</td>\n",
       "      <td>22</td>\n",
       "      <td>14</td>\n",
       "    </tr>\n",
       "    <tr>\n",
       "      <td>93%</td>\n",
       "      <td>8</td>\n",
       "      <td>26</td>\n",
       "      <td>46</td>\n",
       "      <td>28</td>\n",
       "      <td>26</td>\n",
       "      <td>9</td>\n",
       "    </tr>\n",
       "    <tr>\n",
       "      <td>94%</td>\n",
       "      <td>9</td>\n",
       "      <td>35</td>\n",
       "      <td>46</td>\n",
       "      <td>24</td>\n",
       "      <td>33</td>\n",
       "      <td>19</td>\n",
       "    </tr>\n",
       "    <tr>\n",
       "      <td>95%</td>\n",
       "      <td>13</td>\n",
       "      <td>70</td>\n",
       "      <td>60</td>\n",
       "      <td>28</td>\n",
       "      <td>35</td>\n",
       "      <td>19</td>\n",
       "    </tr>\n",
       "    <tr>\n",
       "      <td>96%</td>\n",
       "      <td>27</td>\n",
       "      <td>92</td>\n",
       "      <td>84</td>\n",
       "      <td>15</td>\n",
       "      <td>46</td>\n",
       "      <td>21</td>\n",
       "    </tr>\n",
       "    <tr>\n",
       "      <td>97%</td>\n",
       "      <td>24</td>\n",
       "      <td>130</td>\n",
       "      <td>83</td>\n",
       "      <td>23</td>\n",
       "      <td>37</td>\n",
       "      <td>28</td>\n",
       "    </tr>\n",
       "    <tr>\n",
       "      <td>98%</td>\n",
       "      <td>29</td>\n",
       "      <td>191</td>\n",
       "      <td>83</td>\n",
       "      <td>27</td>\n",
       "      <td>40</td>\n",
       "      <td>32</td>\n",
       "    </tr>\n",
       "    <tr>\n",
       "      <td>99%</td>\n",
       "      <td>15</td>\n",
       "      <td>177</td>\n",
       "      <td>57</td>\n",
       "      <td>18</td>\n",
       "      <td>31</td>\n",
       "      <td>29</td>\n",
       "    </tr>\n",
       "  </tbody>\n",
       "</table>\n",
       "</div>"
      ],
      "text/plain": [
       "Profile  Ayurveda  Dentist  Dermatologists  ENT Specialist  General Medicine  \\\n",
       "Rating                                                                         \n",
       "100%           86      385             142              49               103   \n",
       "33%             0        0               1               1                 0   \n",
       "36%             0        0               0               1                 0   \n",
       "40%             0        0               0               0                 1   \n",
       "45%             0        0               0               0                 0   \n",
       "47%             0        0               0               1                 0   \n",
       "48%             0        0               0               1                 0   \n",
       "52%             0        0               0               1                 0   \n",
       "53%             0        0               1               1                 0   \n",
       "55%             0        0               0               4                 1   \n",
       "56%             0        0               2               2                 1   \n",
       "57%             0        0               0               2                 1   \n",
       "58%             0        0               0               1                 0   \n",
       "60%             1        0               0               8                 2   \n",
       "62%             0        0               0               1                 1   \n",
       "63%             0        0               2               0                 0   \n",
       "64%             0        0               1               3                 0   \n",
       "65%             0        0               0               0                 2   \n",
       "67%             1        0               1               7                 7   \n",
       "68%             0        0               3               1                 1   \n",
       "69%             0        0               2               4                 0   \n",
       "7%              0        0               0               0                 1   \n",
       "70%             0        0               4               2                 2   \n",
       "71%             0        0               8               2                 5   \n",
       "72%             0        0               0               1                 2   \n",
       "73%             0        0               2               2                 9   \n",
       "74%             0        0               1               3                 3   \n",
       "75%             0        1               4               1                 1   \n",
       "76%             0        0               3               3                 6   \n",
       "77%             1        0               7               5                 4   \n",
       "78%             0        0               4               3                 0   \n",
       "79%             0        0               7               3                 5   \n",
       "80%             0        0               9               6                 9   \n",
       "81%             1        0               4               5                 5   \n",
       "82%             2        3               6               8                11   \n",
       "83%             0        1               7               8                10   \n",
       "84%             0        0               9               5                 5   \n",
       "85%             3        2              14               8                 6   \n",
       "86%             1        3              12               5                 5   \n",
       "87%             3        0              11               3                 7   \n",
       "88%             8        4              17              10                11   \n",
       "89%             0        3              25              15                 9   \n",
       "90%             6       16              28              21                20   \n",
       "91%             6       11              27              25                12   \n",
       "92%             5       14              24              16                22   \n",
       "93%             8       26              46              28                26   \n",
       "94%             9       35              46              24                33   \n",
       "95%            13       70              60              28                35   \n",
       "96%            27       92              84              15                46   \n",
       "97%            24      130              83              23                37   \n",
       "98%            29      191              83              27                40   \n",
       "99%            15      177              57              18                31   \n",
       "\n",
       "Profile  Homeopath  \n",
       "Rating              \n",
       "100%           142  \n",
       "33%              0  \n",
       "36%              0  \n",
       "40%              0  \n",
       "45%              1  \n",
       "47%              0  \n",
       "48%              0  \n",
       "52%              0  \n",
       "53%              0  \n",
       "55%              0  \n",
       "56%              0  \n",
       "57%              0  \n",
       "58%              0  \n",
       "60%              0  \n",
       "62%              0  \n",
       "63%              0  \n",
       "64%              0  \n",
       "65%              0  \n",
       "67%              1  \n",
       "68%              0  \n",
       "69%              0  \n",
       "7%               0  \n",
       "70%              0  \n",
       "71%              1  \n",
       "72%              0  \n",
       "73%              0  \n",
       "74%              0  \n",
       "75%              1  \n",
       "76%              1  \n",
       "77%              0  \n",
       "78%              0  \n",
       "79%              0  \n",
       "80%              2  \n",
       "81%              0  \n",
       "82%              2  \n",
       "83%              6  \n",
       "84%              1  \n",
       "85%              2  \n",
       "86%              1  \n",
       "87%              1  \n",
       "88%              4  \n",
       "89%              1  \n",
       "90%              4  \n",
       "91%              5  \n",
       "92%             14  \n",
       "93%              9  \n",
       "94%             19  \n",
       "95%             19  \n",
       "96%             21  \n",
       "97%             28  \n",
       "98%             32  \n",
       "99%             29  "
      ]
     },
     "execution_count": 8,
     "metadata": {},
     "output_type": "execute_result"
    }
   ],
   "source": [
    "pd.crosstab(doctor_df['Rating'],doctor_df[\"Profile\"])"
   ]
  },
  {
   "cell_type": "code",
   "execution_count": 9,
   "metadata": {},
   "outputs": [
    {
     "data": {
      "text/plain": [
       "(1383.6501226935256,\n",
       " 4.7836887315350064e-178,\n",
       " 195,\n",
       " array([[1.31857071e-01, 2.63714142e-01, 1.31857071e-01, 5.27428284e-01,\n",
       "         2.63714142e-01, 1.06804227e+01, 1.45042778e+00, 2.37342728e+00,\n",
       "         1.58228485e+00, 1.72205335e+02, 1.31857071e-01, 2.63714142e-01,\n",
       "         3.33598390e+01, 2.63714142e-01, 1.19198792e+02, 1.31857071e-01,\n",
       "         1.31857071e-01, 4.04801208e+01, 2.63714142e-01, 1.31857071e-01,\n",
       "         1.31857071e-01, 1.13924509e+02, 1.88555611e+01, 2.63714142e-01,\n",
       "         5.59073981e+01, 1.31857071e-01, 8.57070961e+00, 1.31857071e-01,\n",
       "         1.23681933e+02, 2.90085556e+00, 2.83492703e+01, 1.31857071e-01,\n",
       "         2.76899849e+00, 2.01741319e+01, 4.48314041e+00, 1.88555611e+01,\n",
       "         1.31857071e-01, 2.37342728e+00, 1.31857071e-01, 1.31857071e-01],\n",
       "        [2.34356652e-01, 4.68713303e-01, 2.34356652e-01, 9.37426606e-01,\n",
       "         4.68713303e-01, 1.89828888e+01, 2.57792317e+00, 4.21841973e+00,\n",
       "         2.81227982e+00, 3.06069787e+02, 2.34356652e-01, 4.68713303e-01,\n",
       "         5.92922328e+01, 4.68713303e-01, 2.11858413e+02, 2.34356652e-01,\n",
       "         2.34356652e-01, 7.19474920e+01, 4.68713303e-01, 2.34356652e-01,\n",
       "         2.34356652e-01, 2.02484147e+02, 3.35130012e+01, 4.68713303e-01,\n",
       "         9.93672203e+01, 2.34356652e-01, 1.52331824e+01, 2.34356652e-01,\n",
       "         2.19826539e+02, 5.15584633e+00, 5.03866801e+01, 2.34356652e-01,\n",
       "         4.92148968e+00, 3.58565677e+01, 7.96812615e+00, 3.35130012e+01,\n",
       "         2.34356652e-01, 4.21841973e+00, 2.34356652e-01, 2.34356652e-01],\n",
       "        [1.73460829e-01, 3.46921657e-01, 1.73460829e-01, 6.93843315e-01,\n",
       "         3.46921657e-01, 1.40503271e+01, 1.90806912e+00, 3.12229492e+00,\n",
       "         2.08152994e+00, 2.26539842e+02, 1.73460829e-01, 3.46921657e-01,\n",
       "         4.38855897e+01, 3.46921657e-01, 1.56808589e+02, 1.73460829e-01,\n",
       "         1.73460829e-01, 5.32524744e+01, 3.46921657e-01, 1.73460829e-01,\n",
       "         1.73460829e-01, 1.49870156e+02, 2.48048985e+01, 3.46921657e-01,\n",
       "         7.35473914e+01, 1.73460829e-01, 1.12749539e+01, 1.73460829e-01,\n",
       "         1.62706257e+02, 3.81613823e+00, 3.72940782e+01, 1.73460829e-01,\n",
       "         3.64267740e+00, 2.65395068e+01, 5.89766818e+00, 2.48048985e+01,\n",
       "         1.73460829e-01, 3.12229492e+00, 1.73460829e-01, 1.73460829e-01],\n",
       "        [1.22127160e-01, 2.44254320e-01, 1.22127160e-01, 4.88508639e-01,\n",
       "         2.44254320e-01, 9.89229995e+00, 1.34339876e+00, 2.19828888e+00,\n",
       "         1.46552592e+00, 1.59498071e+02, 1.22127160e-01, 2.44254320e-01,\n",
       "         3.08981714e+01, 2.44254320e-01, 1.10402953e+02, 1.22127160e-01,\n",
       "         1.22127160e-01, 3.74930381e+01, 2.44254320e-01, 1.22127160e-01,\n",
       "         1.22127160e-01, 1.05517866e+02, 1.74641839e+01, 2.44254320e-01,\n",
       "         5.17819158e+01, 1.22127160e-01, 7.93826539e+00, 1.22127160e-01,\n",
       "         1.14555276e+02, 2.68679752e+00, 2.62573394e+01, 1.22127160e-01,\n",
       "         2.56467036e+00, 1.86854555e+01, 4.15232344e+00, 1.74641839e+01,\n",
       "         1.22127160e-01, 2.19828888e+00, 1.22127160e-01, 1.22127160e-01],\n",
       "        [1.96779064e-01, 3.93558128e-01, 1.96779064e-01, 7.87116256e-01,\n",
       "         3.93558128e-01, 1.59391042e+01, 2.16456970e+00, 3.54202315e+00,\n",
       "         2.36134877e+00, 2.56993457e+02, 1.96779064e-01, 3.93558128e-01,\n",
       "         4.97851032e+01, 3.93558128e-01, 1.77888274e+02, 1.96779064e-01,\n",
       "         1.96779064e-01, 6.04111726e+01, 3.93558128e-01, 1.96779064e-01,\n",
       "         1.96779064e-01, 1.70017111e+02, 2.81394061e+01, 3.93558128e-01,\n",
       "         8.34343231e+01, 1.96779064e-01, 1.27906392e+01, 1.96779064e-01,\n",
       "         1.84578762e+02, 4.32913941e+00, 4.23074987e+01, 1.96779064e-01,\n",
       "         4.13236034e+00, 3.01071968e+01, 6.69048817e+00, 2.81394061e+01,\n",
       "         1.96779064e-01, 3.54202315e+00, 1.96779064e-01, 1.96779064e-01],\n",
       "        [1.41419225e-01, 2.82838450e-01, 1.41419225e-01, 5.65676900e-01,\n",
       "         2.82838450e-01, 1.14549572e+01, 1.55561147e+00, 2.54554605e+00,\n",
       "         1.69703070e+00, 1.84693508e+02, 1.41419225e-01, 2.82838450e-01,\n",
       "         3.57790639e+01, 2.82838450e-01, 1.27842979e+02, 1.41419225e-01,\n",
       "         1.41419225e-01, 4.34157021e+01, 2.82838450e-01, 1.41419225e-01,\n",
       "         1.41419225e-01, 1.22186210e+02, 2.02229492e+01, 2.82838450e-01,\n",
       "         5.99617514e+01, 1.41419225e-01, 9.19224962e+00, 1.41419225e-01,\n",
       "         1.32651233e+02, 3.11122295e+00, 3.04051334e+01, 1.41419225e-01,\n",
       "         2.96980372e+00, 2.16371414e+01, 4.80825365e+00, 2.02229492e+01,\n",
       "         1.41419225e-01, 2.54554605e+00, 1.41419225e-01, 1.41419225e-01]]))"
      ]
     },
     "execution_count": 9,
     "metadata": {},
     "output_type": "execute_result"
    }
   ],
   "source": [
    "from scipy.stats import chi2_contingency\n",
    "chi2_contingency(pd.crosstab(doctor_df['Profile'],doctor_df['Fees']))"
   ]
  },
  {
   "cell_type": "code",
   "execution_count": 10,
   "metadata": {},
   "outputs": [
    {
     "data": {
      "image/png": "[encoded data removed]",
      "text/plain": [
       "<Figure size 432x288 with 1 Axes>"
      ]
     },
     "metadata": {
      "needs_background": "light"
     },
     "output_type": "display_data"
    }
   ],
   "source": [
    "x=doctor_df['Profile']\n",
    "ax=sns.countplot(x=x,data=doctor_df)"
   ]
  },
  {
   "cell_type": "code",
   "execution_count": 11,
   "metadata": {},
   "outputs": [],
   "source": [
    "#chi 2 test distplot of fees more croostab"
   ]
  },
  {
   "cell_type": "code",
   "execution_count": 12,
   "metadata": {},
   "outputs": [
    {
     "data": {
      "text/plain": [
       "(7948, 7)"
      ]
     },
     "execution_count": 12,
     "metadata": {},
     "output_type": "execute_result"
    }
   ],
   "source": [
    "doctor_df.shape"
   ]
  },
  {
   "cell_type": "code",
   "execution_count": 13,
   "metadata": {},
   "outputs": [],
   "source": [
    "#we have a lot of categorical data lets work on it\n",
    "doctor_df['Qual_1'] = doctor_df['Qualification'].str.split(',').str[0]\n",
    "doctor_df['Qual_2'] = doctor_df['Qualification'].str.split(',').str[1]\n",
    "doctor_df['Qual_3'] = doctor_df['Qualification'].str.split(',').str[2]\n",
    "doctor_df['Qual_1'].fillna(\"XXX\",inplace = True)\n",
    "doctor_df['Qual_2'].fillna(\"XXX\",inplace = True)\n",
    "doctor_df['Qual_3'].fillna(\"XXX\",inplace = True)\n",
    "#filling null values with xxx will treat them later"
   ]
  },
  {
   "cell_type": "code",
   "execution_count": 14,
   "metadata": {},
   "outputs": [],
   "source": [
    "doctor_df['years_exp'] = doctor_df['Experience'].str.slice(stop=2).astype(int)"
   ]
  },
  {
   "cell_type": "code",
   "execution_count": 15,
   "metadata": {},
   "outputs": [],
   "source": [
    "#filling null values with zero nd removing the percentage sign\n",
    "doctor_df['Rating'].fillna('0%',inplace = True)\n",
    "doctor_df['Rating'] = doctor_df['Rating'].str.slice(stop=-1).astype(int)"
   ]
  },
  {
   "cell_type": "code",
   "execution_count": 16,
   "metadata": {},
   "outputs": [],
   "source": [
    "#splitting the place into city nd locality\n",
    "doctor_df['City'] = doctor_df['Place'].str.split(',').str[1]\n",
    "doctor_df['Locality'] = doctor_df['Place'].str.split(',').str[0]\n",
    "doctor_df['City'].fillna(\"XXX\",inplace = True)\n",
    "doctor_df['Locality'].fillna(\"XXX\",inplace = True)"
   ]
  },
  {
   "cell_type": "code",
   "execution_count": 17,
   "metadata": {},
   "outputs": [],
   "source": [
    "# 3 variables into 3 columns (rating %, followed by the number of people who rated and then the doctor’s address)\n",
    "doctor_df['Misc'] = doctor_df['Miscellaneous_Info'].str.split('%').str[0]\n",
    "doctor_df['Misc_len'] = doctor_df['Misc'].str.len()\n",
    "doctor_df.loc[doctor_df['Misc_len']>3, 'Misc'] = 0\n",
    "doctor_df['Misc'].fillna(0,inplace = True)\n",
    "doctor_df['Misc'] = doctor_df['Misc'].astype(int)\n",
    "doctor_df['Misc_2'] = doctor_df['Miscellaneous_Info'].str.split('% ').str[1]\n",
    "doctor_df['Misc_3'] = doctor_df['Misc_2'].str.split(' ').str[0]\n",
    "doctor_df['Misc_3'].fillna(0,inplace = True)\n",
    "doctor_df['Misc_3_len'] = doctor_df['Misc_3'].str.len()\n",
    "doctor_df.loc[doctor_df['Misc_3_len']>3, 'Misc_3'] = 0\n",
    "doctor_df.loc[doctor_df['Misc_3']==',', 'Misc_3'] = 0\n",
    "doctor_df['Misc_3'] = doctor_df['Misc_3'].astype(int)"
   ]
  },
  {
   "cell_type": "code",
   "execution_count": 18,
   "metadata": {},
   "outputs": [
    {
     "data": {
      "text/html": [
       "<div>\n",
       "<style scoped>\n",
       "    .dataframe tbody tr th:only-of-type {\n",
       "        vertical-align: middle;\n",
       "    }\n",
       "\n",
       "    .dataframe tbody tr th {\n",
       "        vertical-align: top;\n",
       "    }\n",
       "\n",
       "    .dataframe thead th {\n",
       "        text-align: right;\n",
       "    }\n",
       "</style>\n",
       "<table border=\"1\" class=\"dataframe\">\n",
       "  <thead>\n",
       "    <tr style=\"text-align: right;\">\n",
       "      <th></th>\n",
       "      <th>Experience</th>\n",
       "      <th>Fees</th>\n",
       "      <th>Miscellaneous_Info</th>\n",
       "      <th>Place</th>\n",
       "      <th>Profile</th>\n",
       "      <th>Qualification</th>\n",
       "      <th>Rating</th>\n",
       "      <th>Qual_1</th>\n",
       "      <th>Qual_2</th>\n",
       "      <th>Qual_3</th>\n",
       "      <th>years_exp</th>\n",
       "      <th>City</th>\n",
       "      <th>Locality</th>\n",
       "      <th>Misc</th>\n",
       "      <th>Misc_len</th>\n",
       "      <th>Misc_2</th>\n",
       "      <th>Misc_3</th>\n",
       "      <th>Misc_3_len</th>\n",
       "    </tr>\n",
       "  </thead>\n",
       "  <tbody>\n",
       "    <tr>\n",
       "      <td>0</td>\n",
       "      <td>24 years experience</td>\n",
       "      <td>100.0</td>\n",
       "      <td>100% 16 Feedback Kakkanad, Ernakulam</td>\n",
       "      <td>Kakkanad, Ernakulam</td>\n",
       "      <td>Homeopath</td>\n",
       "      <td>BHMS, MD - Homeopathy</td>\n",
       "      <td>100</td>\n",
       "      <td>BHMS</td>\n",
       "      <td>MD - Homeopathy</td>\n",
       "      <td>XXX</td>\n",
       "      <td>24</td>\n",
       "      <td>Ernakulam</td>\n",
       "      <td>Kakkanad</td>\n",
       "      <td>100</td>\n",
       "      <td>3.0</td>\n",
       "      <td>16 Feedback Kakkanad, Ernakulam</td>\n",
       "      <td>16</td>\n",
       "      <td>2.0</td>\n",
       "    </tr>\n",
       "    <tr>\n",
       "      <td>1</td>\n",
       "      <td>12 years experience</td>\n",
       "      <td>350.0</td>\n",
       "      <td>98% 76 Feedback Whitefield, Bangalore</td>\n",
       "      <td>Whitefield, Bangalore</td>\n",
       "      <td>Ayurveda</td>\n",
       "      <td>BAMS, MD - Ayurveda Medicine</td>\n",
       "      <td>98</td>\n",
       "      <td>BAMS</td>\n",
       "      <td>MD - Ayurveda Medicine</td>\n",
       "      <td>XXX</td>\n",
       "      <td>12</td>\n",
       "      <td>Bangalore</td>\n",
       "      <td>Whitefield</td>\n",
       "      <td>98</td>\n",
       "      <td>2.0</td>\n",
       "      <td>76 Feedback Whitefield, Bangalore</td>\n",
       "      <td>76</td>\n",
       "      <td>2.0</td>\n",
       "    </tr>\n",
       "    <tr>\n",
       "      <td>2</td>\n",
       "      <td>9 years experience</td>\n",
       "      <td>300.0</td>\n",
       "      <td>NaN</td>\n",
       "      <td>Mathikere - BEL, Bangalore</td>\n",
       "      <td>ENT Specialist</td>\n",
       "      <td>MBBS, MS - Otorhinolaryngology</td>\n",
       "      <td>0</td>\n",
       "      <td>MBBS</td>\n",
       "      <td>MS - Otorhinolaryngology</td>\n",
       "      <td>XXX</td>\n",
       "      <td>9</td>\n",
       "      <td>Bangalore</td>\n",
       "      <td>Mathikere - BEL</td>\n",
       "      <td>0</td>\n",
       "      <td>NaN</td>\n",
       "      <td>NaN</td>\n",
       "      <td>0</td>\n",
       "      <td>NaN</td>\n",
       "    </tr>\n",
       "    <tr>\n",
       "      <td>3</td>\n",
       "      <td>12 years experience</td>\n",
       "      <td>250.0</td>\n",
       "      <td>Bannerghatta Road, Bangalore ₹250 Available on...</td>\n",
       "      <td>Bannerghatta Road, Bangalore</td>\n",
       "      <td>Ayurveda</td>\n",
       "      <td>BSc - Zoology, BAMS</td>\n",
       "      <td>0</td>\n",
       "      <td>BSc - Zoology</td>\n",
       "      <td>BAMS</td>\n",
       "      <td>XXX</td>\n",
       "      <td>12</td>\n",
       "      <td>Bangalore</td>\n",
       "      <td>Bannerghatta Road</td>\n",
       "      <td>0</td>\n",
       "      <td>58.0</td>\n",
       "      <td>NaN</td>\n",
       "      <td>0</td>\n",
       "      <td>NaN</td>\n",
       "    </tr>\n",
       "    <tr>\n",
       "      <td>4</td>\n",
       "      <td>20 years experience</td>\n",
       "      <td>250.0</td>\n",
       "      <td>100% 4 Feedback Keelkattalai, Chennai</td>\n",
       "      <td>Keelkattalai, Chennai</td>\n",
       "      <td>Ayurveda</td>\n",
       "      <td>BAMS</td>\n",
       "      <td>100</td>\n",
       "      <td>BAMS</td>\n",
       "      <td>XXX</td>\n",
       "      <td>XXX</td>\n",
       "      <td>20</td>\n",
       "      <td>Chennai</td>\n",
       "      <td>Keelkattalai</td>\n",
       "      <td>100</td>\n",
       "      <td>3.0</td>\n",
       "      <td>4 Feedback Keelkattalai, Chennai</td>\n",
       "      <td>4</td>\n",
       "      <td>1.0</td>\n",
       "    </tr>\n",
       "  </tbody>\n",
       "</table>\n",
       "</div>"
      ],
      "text/plain": [
       "            Experience   Fees  \\\n",
       "0  24 years experience  100.0   \n",
       "1  12 years experience  350.0   \n",
       "2   9 years experience  300.0   \n",
       "3  12 years experience  250.0   \n",
       "4  20 years experience  250.0   \n",
       "\n",
       "                                  Miscellaneous_Info  \\\n",
       "0               100% 16 Feedback Kakkanad, Ernakulam   \n",
       "1              98% 76 Feedback Whitefield, Bangalore   \n",
       "2                                                NaN   \n",
       "3  Bannerghatta Road, Bangalore ₹250 Available on...   \n",
       "4              100% 4 Feedback Keelkattalai, Chennai   \n",
       "\n",
       "                          Place         Profile  \\\n",
       "0           Kakkanad, Ernakulam       Homeopath   \n",
       "1         Whitefield, Bangalore        Ayurveda   \n",
       "2    Mathikere - BEL, Bangalore  ENT Specialist   \n",
       "3  Bannerghatta Road, Bangalore        Ayurveda   \n",
       "4         Keelkattalai, Chennai        Ayurveda   \n",
       "\n",
       "                    Qualification  Rating         Qual_1  \\\n",
       "0           BHMS, MD - Homeopathy     100           BHMS   \n",
       "1    BAMS, MD - Ayurveda Medicine      98           BAMS   \n",
       "2  MBBS, MS - Otorhinolaryngology       0           MBBS   \n",
       "3             BSc - Zoology, BAMS       0  BSc - Zoology   \n",
       "4                            BAMS     100           BAMS   \n",
       "\n",
       "                      Qual_2 Qual_3  years_exp        City           Locality  \\\n",
       "0            MD - Homeopathy    XXX         24   Ernakulam           Kakkanad   \n",
       "1     MD - Ayurveda Medicine    XXX         12   Bangalore         Whitefield   \n",
       "2   MS - Otorhinolaryngology    XXX          9   Bangalore    Mathikere - BEL   \n",
       "3                       BAMS    XXX         12   Bangalore  Bannerghatta Road   \n",
       "4                        XXX    XXX         20     Chennai       Keelkattalai   \n",
       "\n",
       "   Misc  Misc_len                             Misc_2  Misc_3  Misc_3_len  \n",
       "0   100       3.0    16 Feedback Kakkanad, Ernakulam      16         2.0  \n",
       "1    98       2.0  76 Feedback Whitefield, Bangalore      76         2.0  \n",
       "2     0       NaN                                NaN       0         NaN  \n",
       "3     0      58.0                                NaN       0         NaN  \n",
       "4   100       3.0   4 Feedback Keelkattalai, Chennai       4         1.0  "
      ]
     },
     "execution_count": 18,
     "metadata": {},
     "output_type": "execute_result"
    }
   ],
   "source": [
    "doctor_df.head()"
   ]
  },
  {
   "cell_type": "code",
   "execution_count": 19,
   "metadata": {},
   "outputs": [
    {
     "data": {
      "text/plain": [
       "(5961, 7)"
      ]
     },
     "execution_count": 19,
     "metadata": {},
     "output_type": "execute_result"
    }
   ],
   "source": [
    "df.shape"
   ]
  },
  {
   "cell_type": "code",
   "execution_count": 20,
   "metadata": {},
   "outputs": [],
   "source": [
    "#lets set up our model for predicting results\n",
    "doctor_df = doctor_df.drop(doctor_df[['Experience','Miscellaneous_Info','Place','Qualification','Misc_len','Misc_3_len']], axis=1)\n",
    "df_train = doctor_df[0:5961]\n",
    "df_test = doctor_df[5961:]\n",
    "df_test = df_test.drop(['Fees'], axis =1)"
   ]
  },
  {
   "cell_type": "code",
   "execution_count": 21,
   "metadata": {},
   "outputs": [],
   "source": [
    "#lets label encode the categorical data as we now have meaningul data so lets covert into numerical data for predicting results\n",
    "from sklearn.preprocessing import LabelEncoder\n",
    "\n",
    "lb = LabelEncoder()\n",
    "df_test[\"Qual_1_code\"] = lb.fit_transform(df_test[\"Qual_1\"])\n",
    "df_test[\"Qual_2_code\"] = lb.fit_transform(df_test[\"Qual_2\"])\n",
    "df_test[\"Qual_3_code\"] = lb.fit_transform(df_test[\"Qual_3\"])\n",
    "df_test[\"Profile_code\"] = lb.fit_transform(df_test[\"Profile\"])\n",
    "df_test[\"City_code\"] = lb.fit_transform(df_test[\"City\"])\n",
    "df_test[\"Locality_code\"] = lb.fit_transform(df_test[\"Locality\"])"
   ]
  },
  {
   "cell_type": "code",
   "execution_count": 22,
   "metadata": {},
   "outputs": [],
   "source": [
    "#now lets put the label encoded test data to  train data  nd dropping duplicates\n",
    "df_test_merge_1 = df_test[['Qual_1','Qual_1_code']].drop_duplicates()\n",
    "df_test_merge_2 = df_test[['Qual_2','Qual_2_code']].drop_duplicates()\n",
    "df_test_merge_3 = df_test[['Qual_3','Qual_3_code']].drop_duplicates()\n",
    "df_test_merge_4 = df_test[['Profile','Profile_code']].drop_duplicates()\n",
    "df_test_merge_5 = df_test[['City','City_code']].drop_duplicates()\n",
    "df_test_merge_6 = df_test[['Locality','Locality_code']].drop_duplicates()"
   ]
  },
  {
   "cell_type": "code",
   "execution_count": 23,
   "metadata": {},
   "outputs": [],
   "source": [
    "#putting t=into test data\n",
    "df_train = pd.merge(df_train,df_test_merge_1[['Qual_1','Qual_1_code']],on='Qual_1', how='left')\n",
    "df_train = pd.merge(df_train,df_test_merge_2[['Qual_2','Qual_2_code']],on='Qual_2', how='left')\n",
    "df_train = pd.merge(df_train,df_test_merge_3[['Qual_3','Qual_3_code']],on='Qual_3', how='left')\n",
    "df_train = pd.merge(df_train,df_test_merge_4[['Profile','Profile_code']],on='Profile', how='left')\n",
    "df_train = pd.merge(df_train,df_test_merge_5[['City','City_code']],on='City', how='left')\n",
    "df_train = pd.merge(df_train,df_test_merge_6[['Locality','Locality_code']],on='Locality', how='left')"
   ]
  },
  {
   "cell_type": "code",
   "execution_count": 24,
   "metadata": {},
   "outputs": [],
   "source": [
    "#filling null values\n",
    "cols=[\"Qual_1_code\",\"Qual_2_code\",\"Qual_3_code\",\"Locality_code\",\"City_code\"]\n",
    "df_train[cols]=df_train[cols].fillna(df_train.mean().iloc[0])"
   ]
  },
  {
   "cell_type": "code",
   "execution_count": 25,
   "metadata": {},
   "outputs": [],
   "source": [
    "df_lg = df_train[['Qual_1_code','Qual_2_code','Qual_3_code','years_exp', 'Rating','Profile_code','Locality_code','City_code','Misc','Misc_3','Fees']]\n",
    "x = df_lg.drop(['Fees'], axis=1)\n",
    "y = df_lg.Fees"
   ]
  },
  {
   "cell_type": "code",
   "execution_count": 26,
   "metadata": {},
   "outputs": [
    {
     "data": {
      "text/plain": [
       "(5961, 11)"
      ]
     },
     "execution_count": 26,
     "metadata": {},
     "output_type": "execute_result"
    }
   ],
   "source": [
    "df_lg.shape"
   ]
  },
  {
   "cell_type": "code",
   "execution_count": null,
   "metadata": {},
   "outputs": [],
   "source": []
  },
  {
   "cell_type": "code",
   "execution_count": 27,
   "metadata": {},
   "outputs": [
    {
     "data": {
      "text/plain": [
       "<matplotlib.axes._subplots.AxesSubplot at 0x21edf443248>"
      ]
     },
     "execution_count": 27,
     "metadata": {},
     "output_type": "execute_result"
    },
    {
     "data": {
      "image/png": "[encoded data removed]",
      "text/plain": [
       "<Figure size 1296x576 with 1 Axes>"
      ]
     },
     "metadata": {
      "needs_background": "light"
     },
     "output_type": "display_data"
    }
   ],
   "source": [
    "#lets check for outliers,they are present lets fix it\n",
    "plt.figure(figsize = (18, 8))\n",
    "sns.boxplot(data=df_lg, palette ='pastel')"
   ]
  },
  {
   "cell_type": "code",
   "execution_count": 28,
   "metadata": {},
   "outputs": [
    {
     "name": "stdout",
     "output_type": "stream",
     "text": [
      "[[0.65865649 0.46314224 0.11135329 ... 1.87245804 0.16064054 1.08926083]\n",
      " [0.70129487 0.54954439 0.11135329 ... 1.82346852 1.68520387 0.22029544]\n",
      " [0.30070702 0.21573178 0.11135329 ... 0.57701777 0.24590969 0.04161581]\n",
      " ...\n",
      " [0.30070702 0.85757631 0.11135329 ... 1.79897377 0.03359359 1.52985171]\n",
      " [0.30070702 0.47548541 0.11135329 ... 0.57701777 0.24590969 1.08926083]\n",
      " [0.67997568 0.11753365 0.11135329 ... 0.57701777 0.24590969 0.56543832]]\n"
     ]
    }
   ],
   "source": [
    "from scipy import stats\n",
    "import numpy as np\n",
    "z = np.abs(stats.zscore(df_lg))\n",
    "print(z)"
   ]
  },
  {
   "cell_type": "code",
   "execution_count": 29,
   "metadata": {},
   "outputs": [
    {
     "name": "stdout",
     "output_type": "stream",
     "text": [
      "(array([  20,   33,   79,  105,  110,  110,  183,  202,  224,  236,  243,\n",
      "        246,  255,  262,  263,  275,  293,  293,  314,  325,  357,  372,\n",
      "        425,  432,  434,  453,  454,  478,  487,  514,  548,  606,  623,\n",
      "        623,  624,  624,  687,  713,  718,  733,  753,  754,  766,  786,\n",
      "        798,  820,  829,  837,  838,  853,  874,  877,  901,  905,  910,\n",
      "        922,  933,  943,  971,  980,  987, 1009, 1013, 1013, 1027, 1036,\n",
      "       1037, 1062, 1064, 1071, 1077, 1111, 1136, 1160, 1204, 1204, 1229,\n",
      "       1297, 1314, 1325, 1327, 1350, 1364, 1371, 1397, 1401, 1450, 1455,\n",
      "       1491, 1492, 1492, 1504, 1544, 1556, 1586, 1593, 1599, 1611, 1625,\n",
      "       1631, 1635, 1715, 1736, 1755, 1770, 1777, 1817, 1838, 1843, 1860,\n",
      "       1960, 1966, 1978, 1980, 1981, 2005, 2006, 2018, 2023, 2025, 2028,\n",
      "       2030, 2035, 2062, 2084, 2093, 2111, 2159, 2165, 2169, 2202, 2230,\n",
      "       2240, 2252, 2261, 2262, 2265, 2272, 2281, 2285, 2288, 2299, 2301,\n",
      "       2316, 2343, 2351, 2360, 2391, 2393, 2395, 2408, 2420, 2420, 2428,\n",
      "       2428, 2444, 2455, 2455, 2505, 2505, 2518, 2522, 2536, 2552, 2555,\n",
      "       2565, 2578, 2578, 2585, 2586, 2590, 2611, 2620, 2622, 2623, 2631,\n",
      "       2708, 2735, 2775, 2777, 2804, 2819, 2824, 2837, 2850, 2880, 2899,\n",
      "       2910, 2960, 2960, 2964, 2975, 2986, 2988, 3002, 3023, 3028, 3042,\n",
      "       3066, 3072, 3076, 3091, 3096, 3178, 3179, 3180, 3183, 3188, 3191,\n",
      "       3191, 3193, 3201, 3221, 3258, 3266, 3281, 3294, 3332, 3342, 3365,\n",
      "       3379, 3384, 3387, 3391, 3409, 3423, 3426, 3448, 3472, 3478, 3493,\n",
      "       3542, 3544, 3545, 3545, 3558, 3589, 3590, 3602, 3608, 3632, 3662,\n",
      "       3746, 3771, 3791, 3792, 3803, 3816, 3816, 3820, 3840, 3841, 3874,\n",
      "       3884, 3887, 3905, 3906, 3906, 3921, 3937, 3942, 3960, 3972, 3996,\n",
      "       4020, 4022, 4033, 4040, 4057, 4086, 4120, 4141, 4166, 4167, 4183,\n",
      "       4191, 4212, 4214, 4220, 4229, 4231, 4244, 4257, 4296, 4303, 4315,\n",
      "       4323, 4324, 4335, 4344, 4357, 4395, 4399, 4423, 4464, 4474, 4475,\n",
      "       4480, 4496, 4503, 4519, 4524, 4557, 4581, 4627, 4630, 4676, 4687,\n",
      "       4699, 4706, 4726, 4730, 4747, 4763, 4775, 4809, 4815, 4831, 4835,\n",
      "       4835, 4841, 4861, 4913, 4922, 4952, 4953, 4960, 4963, 4990, 4992,\n",
      "       4995, 5050, 5071, 5089, 5091, 5094, 5128, 5129, 5129, 5158, 5176,\n",
      "       5182, 5190, 5195, 5230, 5234, 5250, 5255, 5265, 5277, 5311, 5339,\n",
      "       5339, 5346, 5360, 5386, 5397, 5410, 5417, 5419, 5422, 5429, 5431,\n",
      "       5441, 5443, 5445, 5485, 5503, 5546, 5554, 5579, 5587, 5593, 5606,\n",
      "       5621, 5629, 5630, 5631, 5637, 5651, 5664, 5667, 5684, 5706, 5712,\n",
      "       5720, 5728, 5748, 5762, 5794, 5805, 5807, 5826, 5835, 5848, 5856,\n",
      "       5878, 5901, 5902, 5911, 5921, 5942, 5953, 5953], dtype=int64), array([ 2,  0,  0,  3,  0,  3,  3,  2,  0,  0,  0,  2,  2,  0,  0, 10,  9,\n",
      "       10,  0,  3,  2,  3,  9,  0,  2,  2,  0,  2,  2,  0,  9,  0,  0,  2,\n",
      "        0,  2,  0,  9,  0,  9,  0,  9,  0,  9,  9,  9,  0,  9,  2,  2,  9,\n",
      "        9,  3,  9,  2,  9,  9,  2,  2,  2, 10,  3,  0,  2,  2,  2,  0,  2,\n",
      "        0,  0,  2,  3,  0,  2,  0,  2,  0,  0, 10,  9,  9,  0,  0,  2,  2,\n",
      "        9,  2,  2,  0,  2,  9,  0,  0,  2,  9,  0,  2,  2,  0, 10,  2,  0,\n",
      "        0,  9,  9,  9,  9,  0,  2,  3,  0,  2,  2,  2,  3,  0,  0,  9,  3,\n",
      "        9,  0,  0,  0,  3,  0,  9,  0,  0, 10,  7,  3,  9,  2, 10,  2,  3,\n",
      "        0,  0,  3,  2,  2,  2,  0,  0,  9,  9,  2,  2, 10,  2,  0,  0,  2,\n",
      "        0, 10,  9,  0,  2,  0,  9,  2, 10,  2,  9,  0,  0,  0,  9,  0,  9,\n",
      "        9,  9,  2,  2, 10,  3, 10,  0,  0,  0,  9,  0,  0,  2,  2,  9,  9,\n",
      "        9,  0,  2,  2,  0,  9,  2,  9,  9,  0,  9,  2,  2,  0,  2,  9,  2,\n",
      "        2,  3,  2,  0,  2,  9,  2,  0,  2,  9,  0,  2,  9,  9,  9, 10,  2,\n",
      "        0,  2,  9,  0,  2,  9,  0,  9,  3,  3,  9,  9,  0,  2,  2,  9,  2,\n",
      "        0,  3,  0,  9,  9,  9,  2,  0,  0,  0,  2,  0,  0,  9,  2,  0,  2,\n",
      "        9,  0,  2,  9,  0,  3,  3,  2,  2,  9,  9,  9, 10,  0,  9,  0,  2,\n",
      "        0,  3,  9,  9,  3,  9,  9,  0,  0,  2,  3,  2,  0,  2,  2,  0,  2,\n",
      "        3,  2,  0,  2,  0,  0,  2,  2,  2,  2,  0,  0,  0,  9, 10,  2,  9,\n",
      "        0,  2,  0,  9,  2, 10,  9,  3,  3,  2,  9,  9,  2, 10,  0,  9,  9,\n",
      "        0,  2,  2,  9,  9,  2,  9,  2,  0,  9,  2,  0,  0,  9,  0,  2,  9,\n",
      "        9,  0,  0, 10,  0,  9, 10,  9,  3,  3, 10,  2,  9,  9,  0,  9,  0,\n",
      "        3,  9,  0,  3,  0,  9,  0,  9,  0,  0,  9,  9,  2,  2,  3,  9,  2,\n",
      "        0,  0,  9,  0,  3,  0,  3,  0,  9,  9,  2,  3,  2,  2,  2,  2,  9,\n",
      "        3,  2,  0,  2,  2,  9,  9,  2,  0,  2,  3,  2,  9], dtype=int64))\n"
     ]
    }
   ],
   "source": [
    "threshold=3\n",
    "print(np.where(z>3))"
   ]
  },
  {
   "cell_type": "code",
   "execution_count": 30,
   "metadata": {},
   "outputs": [],
   "source": [
    "df_lg = df_lg[(z < 3).all(axis=1)]"
   ]
  },
  {
   "cell_type": "code",
   "execution_count": 31,
   "metadata": {},
   "outputs": [
    {
     "data": {
      "text/plain": [
       "(5578, 11)"
      ]
     },
     "execution_count": 31,
     "metadata": {},
     "output_type": "execute_result"
    }
   ],
   "source": [
    "df_lg.shape"
   ]
  },
  {
   "cell_type": "code",
   "execution_count": null,
   "metadata": {},
   "outputs": [],
   "source": []
  },
  {
   "cell_type": "code",
   "execution_count": null,
   "metadata": {},
   "outputs": [],
   "source": []
  },
  {
   "cell_type": "code",
   "execution_count": 32,
   "metadata": {},
   "outputs": [],
   "source": [
    "df_lg = df_lg.sample(frac=1, random_state=0)"
   ]
  },
  {
   "cell_type": "code",
   "execution_count": 33,
   "metadata": {},
   "outputs": [],
   "source": [
    "from sklearn.model_selection import train_test_split\n",
    "x_train, x_test, y_train, y_test = train_test_split(x, y, test_size=0.22, random_state=123)\n",
    "\n"
   ]
  },
  {
   "cell_type": "code",
   "execution_count": 34,
   "metadata": {},
   "outputs": [
    {
     "data": {
      "text/plain": [
       "LinearRegression(copy_X=True, fit_intercept=True, n_jobs=None, normalize=False)"
      ]
     },
     "execution_count": 34,
     "metadata": {},
     "output_type": "execute_result"
    }
   ],
   "source": [
    "lg=LinearRegression()\n",
    "lg.fit(x_train,y_train)"
   ]
  },
  {
   "cell_type": "code",
   "execution_count": null,
   "metadata": {},
   "outputs": [],
   "source": []
  },
  {
   "cell_type": "code",
   "execution_count": 35,
   "metadata": {},
   "outputs": [
    {
     "data": {
      "text/plain": [
       "array([ 0.2481534 , -0.30800439, -0.08957599, -0.69709036,  0.45949883,\n",
       "       17.34008499, -0.05718201, -0.17967564,  0.18365819,  0.11011686])"
      ]
     },
     "execution_count": 35,
     "metadata": {},
     "output_type": "execute_result"
    }
   ],
   "source": [
    "lg.coef_"
   ]
  },
  {
   "cell_type": "code",
   "execution_count": null,
   "metadata": {},
   "outputs": [],
   "source": []
  },
  {
   "cell_type": "code",
   "execution_count": 36,
   "metadata": {},
   "outputs": [
    {
     "name": "stdout",
     "output_type": "stream",
     "text": [
      "Predicted fees: [310.98453472 359.67994846 290.87038868 ... 288.04605271 377.26087825\n",
      " 250.94705482]\n",
      "actual fees 4302    400.0\n",
      "1189    400.0\n",
      "2713    100.0\n",
      "815     150.0\n",
      "5153    100.0\n",
      "        ...  \n",
      "2354    250.0\n",
      "5595    300.0\n",
      "148     150.0\n",
      "4875    600.0\n",
      "5563     50.0\n",
      "Name: Fees, Length: 1312, dtype: float64\n"
     ]
    }
   ],
   "source": [
    "pred=lg.predict(x_test)\n",
    "print(\"Predicted fees:\",pred)\n",
    "print(\"actual fees\",y_test)"
   ]
  },
  {
   "cell_type": "code",
   "execution_count": 37,
   "metadata": {},
   "outputs": [
    {
     "name": "stdout",
     "output_type": "stream",
     "text": [
      "error\n",
      "Mean absolute error: 149.77687753071055\n",
      "Mean squared error: 149.77687753071055\n",
      "Root Mean Squared error: 183.89513088307353\n"
     ]
    }
   ],
   "source": [
    "print('error')\n",
    "print('Mean absolute error:',mean_absolute_error(y_test,pred))\n",
    "print('Mean squared error:',mean_absolute_error(y_test,pred))\n",
    "print('Root Mean Squared error:',np.sqrt(mean_squared_error(y_test,pred)))"
   ]
  },
  {
   "cell_type": "code",
   "execution_count": 38,
   "metadata": {},
   "outputs": [],
   "source": [
    "scores = cross_val_score(lg, x,y,\n",
    "                        scoring=\"neg_mean_squared_error\", cv=10)"
   ]
  },
  {
   "cell_type": "code",
   "execution_count": 39,
   "metadata": {},
   "outputs": [],
   "source": [
    "rmse_scores = np.sqrt(-scores)"
   ]
  },
  {
   "cell_type": "code",
   "execution_count": 40,
   "metadata": {},
   "outputs": [
    {
     "name": "stdout",
     "output_type": "stream",
     "text": [
      "Mean:\t\t  183.02204118350613 \n",
      "Standard Deviation: 4.744327669520221\n"
     ]
    }
   ],
   "source": [
    "print(\"Mean:\\t\\t \", rmse_scores.mean(), \"\\nStandard Deviation:\", rmse_scores.std())"
   ]
  },
  {
   "cell_type": "code",
   "execution_count": 41,
   "metadata": {},
   "outputs": [],
   "source": [
    "from sklearn.tree import DecisionTreeRegressor\n",
    "from sklearn.model_selection import cross_val_score\n",
    "tree_reg = DecisionTreeRegressor()\n",
    "scores = cross_val_score(tree_reg,x,y,\n",
    "                        scoring=\"neg_mean_squared_error\", cv=10)"
   ]
  },
  {
   "cell_type": "code",
   "execution_count": 42,
   "metadata": {},
   "outputs": [],
   "source": [
    "tree_reg_scores = np.sqrt(-scores)"
   ]
  },
  {
   "cell_type": "code",
   "execution_count": 43,
   "metadata": {},
   "outputs": [
    {
     "name": "stdout",
     "output_type": "stream",
     "text": [
      "Mean:\t\t  183.02204118350613 \n",
      "Standard Deviation: 7.749338996527034\n"
     ]
    }
   ],
   "source": [
    "print(\"Mean:\\t\\t \", rmse_scores.mean(), \"\\nStandard Deviation:\", tree_reg_scores.std())"
   ]
  },
  {
   "cell_type": "code",
   "execution_count": 44,
   "metadata": {},
   "outputs": [
    {
     "name": "stdout",
     "output_type": "stream",
     "text": [
      "Mean:\t\t  183.02204118350613 \n",
      "Standard Deviation: 7.749338996527034\n"
     ]
    }
   ],
   "source": [
    "print(\"Mean:\\t\\t \", rmse_scores.mean(), \"\\nStandard Deviation:\", tree_reg_scores.std())"
   ]
  },
  {
   "cell_type": "code",
   "execution_count": 45,
   "metadata": {},
   "outputs": [
    {
     "data": {
      "text/plain": [
       "RandomForestRegressor(bootstrap=True, criterion='mse', max_depth=None,\n",
       "                      max_features='auto', max_leaf_nodes=None,\n",
       "                      min_impurity_decrease=0.0, min_impurity_split=None,\n",
       "                      min_samples_leaf=1, min_samples_split=2,\n",
       "                      min_weight_fraction_leaf=0.0, n_estimators=10,\n",
       "                      n_jobs=None, oob_score=False, random_state=None,\n",
       "                      verbose=0, warm_start=False)"
      ]
     },
     "execution_count": 45,
     "metadata": {},
     "output_type": "execute_result"
    }
   ],
   "source": [
    "from sklearn.ensemble import RandomForestRegressor\n",
    "forest_reg = RandomForestRegressor()\n",
    "forest_reg.fit(x,y)"
   ]
  },
  {
   "cell_type": "code",
   "execution_count": 46,
   "metadata": {},
   "outputs": [],
   "source": [
    "forest_scores = cross_val_score(forest_reg,x,y,\n",
    "                               scoring=\"neg_mean_squared_error\", cv=10)"
   ]
  },
  {
   "cell_type": "code",
   "execution_count": 47,
   "metadata": {},
   "outputs": [],
   "source": [
    "forest_rmse_scores = np.sqrt(-forest_scores)"
   ]
  },
  {
   "cell_type": "code",
   "execution_count": 48,
   "metadata": {},
   "outputs": [
    {
     "name": "stdout",
     "output_type": "stream",
     "text": [
      "Mean:\t\t  181.3962965966542 \n",
      "Standard Deviation: 6.6639466523823785\n"
     ]
    }
   ],
   "source": [
    "print(\"Mean:\\t\\t \", forest_rmse_scores.mean(), \"\\nStandard Deviation:\", forest_rmse_scores.std())"
   ]
  },
  {
   "cell_type": "code",
   "execution_count": 49,
   "metadata": {},
   "outputs": [],
   "source": [
    "from sklearn.model_selection import GridSearchCV\n",
    "param_grid = [\n",
    "    {'n_estimators': [3, 10, 30], 'max_features': [2, 4, 6, 8]},\n",
    "    {'bootstrap': [False], 'n_estimators': [3, 10], 'max_features': [2, 3, 4]},\n",
    "  ]"
   ]
  },
  {
   "cell_type": "code",
   "execution_count": 50,
   "metadata": {},
   "outputs": [
    {
     "data": {
      "text/plain": [
       "GridSearchCV(cv=5, error_score='raise-deprecating',\n",
       "             estimator=RandomForestRegressor(bootstrap=True, criterion='mse',\n",
       "                                             max_depth=None,\n",
       "                                             max_features='auto',\n",
       "                                             max_leaf_nodes=None,\n",
       "                                             min_impurity_decrease=0.0,\n",
       "                                             min_impurity_split=None,\n",
       "                                             min_samples_leaf=1,\n",
       "                                             min_samples_split=2,\n",
       "                                             min_weight_fraction_leaf=0.0,\n",
       "                                             n_estimators='warn', n_jobs=None,\n",
       "                                             oob_score=False, random_state=None,\n",
       "                                             verbose=0, warm_start=False),\n",
       "             iid='warn', n_jobs=None,\n",
       "             param_grid=[{'max_features': [2, 4, 6, 8],\n",
       "                          'n_estimators': [3, 10, 30]},\n",
       "                         {'bootstrap': [False], 'max_features': [2, 3, 4],\n",
       "                          'n_estimators': [3, 10]}],\n",
       "             pre_dispatch='2*n_jobs', refit=True, return_train_score=False,\n",
       "             scoring='neg_mean_squared_error', verbose=0)"
      ]
     },
     "execution_count": 50,
     "metadata": {},
     "output_type": "execute_result"
    }
   ],
   "source": [
    "forest_reg = RandomForestRegressor()\n",
    "grid_search = GridSearchCV(forest_reg, param_grid, cv=5,\n",
    "                          scoring='neg_mean_squared_error')\n",
    "grid_search.fit(x,y)"
   ]
  },
  {
   "cell_type": "code",
   "execution_count": 51,
   "metadata": {},
   "outputs": [
    {
     "data": {
      "text/plain": [
       "RandomForestRegressor(bootstrap=True, criterion='mse', max_depth=None,\n",
       "                      max_features=2, max_leaf_nodes=None,\n",
       "                      min_impurity_decrease=0.0, min_impurity_split=None,\n",
       "                      min_samples_leaf=1, min_samples_split=2,\n",
       "                      min_weight_fraction_leaf=0.0, n_estimators=30,\n",
       "                      n_jobs=None, oob_score=False, random_state=None,\n",
       "                      verbose=0, warm_start=False)"
      ]
     },
     "execution_count": 51,
     "metadata": {},
     "output_type": "execute_result"
    }
   ],
   "source": [
    "grid_search.best_estimator_"
   ]
  },
  {
   "cell_type": "code",
   "execution_count": 52,
   "metadata": {},
   "outputs": [
    {
     "data": {
      "text/plain": [
       "RandomForestRegressor(bootstrap=True, criterion='mse', max_depth=None,\n",
       "                      max_features=8, max_leaf_nodes=None,\n",
       "                      min_impurity_decrease=0.0, min_impurity_split=None,\n",
       "                      min_samples_leaf=1, min_samples_split=2,\n",
       "                      min_weight_fraction_leaf=0.0, n_estimators=30,\n",
       "                      n_jobs=None, oob_score=False, random_state=None,\n",
       "                      verbose=0, warm_start=False)"
      ]
     },
     "execution_count": 52,
     "metadata": {},
     "output_type": "execute_result"
    }
   ],
   "source": [
    "from sklearn.ensemble import RandomForestRegressor\n",
    "forest_reg = RandomForestRegressor(bootstrap=True, criterion='mse', max_depth=None,\n",
    "                      max_features=8, max_leaf_nodes=None, n_estimators=30)\n",
    "forest_reg.fit(x,y)"
   ]
  },
  {
   "cell_type": "code",
   "execution_count": 53,
   "metadata": {},
   "outputs": [
    {
     "data": {
      "text/plain": [
       "DecisionTreeRegressor(criterion='mse', max_depth=None, max_features=None,\n",
       "                      max_leaf_nodes=None, min_impurity_decrease=0.0,\n",
       "                      min_impurity_split=None, min_samples_leaf=1,\n",
       "                      min_samples_split=2, min_weight_fraction_leaf=0.0,\n",
       "                      presort=False, random_state=None, splitter='best')"
      ]
     },
     "execution_count": 53,
     "metadata": {},
     "output_type": "execute_result"
    }
   ],
   "source": [
    "from sklearn.tree import DecisionTreeRegressor\n",
    "tree_reg = DecisionTreeRegressor()\n",
    "tree_reg.fit(x_train,y_train)"
   ]
  },
  {
   "cell_type": "code",
   "execution_count": null,
   "metadata": {},
   "outputs": [],
   "source": []
  },
  {
   "cell_type": "code",
   "execution_count": 54,
   "metadata": {},
   "outputs": [
    {
     "data": {
      "text/plain": [
       "0.9964902748763115"
      ]
     },
     "execution_count": 54,
     "metadata": {},
     "output_type": "execute_result"
    }
   ],
   "source": [
    "r2_score(tree_reg.predict(x_train),y_train)"
   ]
  },
  {
   "cell_type": "code",
   "execution_count": null,
   "metadata": {},
   "outputs": [],
   "source": []
  },
  {
   "cell_type": "code",
   "execution_count": 55,
   "metadata": {},
   "outputs": [],
   "source": [
    "#so far random forest is giving a good accuracy"
   ]
  },
  {
   "cell_type": "code",
   "execution_count": 56,
   "metadata": {},
   "outputs": [
    {
     "data": {
      "text/plain": [
       "0.766643208369776"
      ]
     },
     "execution_count": 56,
     "metadata": {},
     "output_type": "execute_result"
    }
   ],
   "source": [
    "r2_score(forest_reg.predict(x_train),y_train)"
   ]
  },
  {
   "cell_type": "code",
   "execution_count": 57,
   "metadata": {},
   "outputs": [
    {
     "data": {
      "text/plain": [
       "0.7675108854260568"
      ]
     },
     "execution_count": 57,
     "metadata": {},
     "output_type": "execute_result"
    }
   ],
   "source": [
    "\n",
    "r2_score(forest_reg.predict(x_test),y_test)"
   ]
  },
  {
   "cell_type": "code",
   "execution_count": null,
   "metadata": {},
   "outputs": [],
   "source": []
  },
  {
   "cell_type": "code",
   "execution_count": null,
   "metadata": {},
   "outputs": [],
   "source": []
  },
  {
   "cell_type": "code",
   "execution_count": 58,
   "metadata": {},
   "outputs": [
    {
     "name": "stdout",
     "output_type": "stream",
     "text": [
      "0.07916376563575378\n"
     ]
    }
   ],
   "source": [
    "from sklearn.linear_model import Lasso,Ridge\n",
    "ls=Lasso()\n",
    "ls.fit(x_train,y_train)\n",
    "print(ls.score(x_train,y_train))"
   ]
  },
  {
   "cell_type": "code",
   "execution_count": 59,
   "metadata": {},
   "outputs": [
    {
     "name": "stdout",
     "output_type": "stream",
     "text": [
      "GridSearchCV(cv='warn', error_score='raise-deprecating',\n",
      "             estimator=Ridge(alpha=1.0, copy_X=True, fit_intercept=True,\n",
      "                             max_iter=None, normalize=False, random_state=None,\n",
      "                             solver='auto', tol=0.001),\n",
      "             iid='warn', n_jobs=None,\n",
      "             param_grid={'alpha': [1, 0.1, 0.01, 0.001, 0.0001, 0]},\n",
      "             pre_dispatch='2*n_jobs', refit=True, return_train_score=False,\n",
      "             scoring=None, verbose=0)\n",
      "1\n",
      "{'alpha': 1}\n"
     ]
    }
   ],
   "source": [
    "from sklearn.model_selection import GridSearchCV\n",
    "alphavalue={'alpha':[1,0.1,0.01,0.001,0.0001,0]}\n",
    "model=Ridge()\n",
    "grid=GridSearchCV(estimator=model,param_grid=alphavalue)\n",
    "grid.fit(x,y)\n",
    "print(grid)\n",
    "print(grid.best_estimator_.alpha)\n",
    "print(grid.best_params_)"
   ]
  },
  {
   "cell_type": "code",
   "execution_count": 60,
   "metadata": {},
   "outputs": [
    {
     "name": "stdout",
     "output_type": "stream",
     "text": [
      "[ 0.25995263 -0.31376092 -0.10421804 -0.65111498  0.4678074  17.9284028\n",
      " -0.05832907 -0.29629754  0.20114593  0.11583534]\n",
      "0.1035867899295042\n"
     ]
    }
   ],
   "source": [
    "rd=Ridge(alpha=1)\n",
    "rd.fit(x,y)\n",
    "print(rd.coef_)\n",
    "print(rd.score(x_test,y_test))"
   ]
  },
  {
   "cell_type": "code",
   "execution_count": 61,
   "metadata": {},
   "outputs": [],
   "source": [
    "df_xgb = df_train[['Qual_1_code','Qual_2_code','Qual_3_code','years_exp', 'Rating','Profile_code','Locality_code','City_code','Misc','Misc_3','Fees']]\n",
    "x = df_xgb.drop(['Fees'], axis=1)\n",
    "y = df_xgb.Fees"
   ]
  },
  {
   "cell_type": "code",
   "execution_count": 62,
   "metadata": {},
   "outputs": [
    {
     "name": "stdout",
     "output_type": "stream",
     "text": [
      "Requirement already satisfied: xgboost in c:\\users\\comp\\appdata\\local\\continuum\\anaconda3\\lib\\site-packages (1.1.0)\n",
      "Requirement already satisfied: numpy in c:\\users\\comp\\appdata\\local\\continuum\\anaconda3\\lib\\site-packages (from xgboost) (1.16.5)\n",
      "Requirement already satisfied: scipy in c:\\users\\comp\\appdata\\local\\continuum\\anaconda3\\lib\\site-packages (from xgboost) (1.3.1)\n"
     ]
    }
   ],
   "source": [
    "!pip install xgboost\n",
    "\n",
    "import xgboost as xgb\n",
    "from sklearn.metrics import mean_squared_error\n",
    "data_dmatrix = xgb.DMatrix(data=x,label=y)"
   ]
  },
  {
   "cell_type": "code",
   "execution_count": 63,
   "metadata": {},
   "outputs": [
    {
     "name": "stdout",
     "output_type": "stream",
     "text": [
      "[18:10:41] WARNING: C:/Users/Administrator/workspace/xgboost-win64_release_1.1.0/src/objective/regression_obj.cu:168: reg:linear is now deprecated in favor of reg:squarederror.\n",
      "[18:10:41] WARNING: C:/Users/Administrator/workspace/xgboost-win64_release_1.1.0/src/objective/regression_obj.cu:168: reg:linear is now deprecated in favor of reg:squarederror.\n"
     ]
    }
   ],
   "source": [
    "from sklearn.model_selection import train_test_split\n",
    "x_train, x_test, y_train, y_test = train_test_split(x, y, test_size=0.3, random_state=123)\n",
    "\n",
    "xg_reg = xgb.XGBRegressor(objective ='reg:linear', colsample_bytree = 0.3, learning_rate = 0.1, max_depth = 5, n_estimators = 10)\n",
    "\n",
    "xg_reg.fit(x_train,y_train)\n",
    "preds = xg_reg.predict(x_test)"
   ]
  },
  {
   "cell_type": "code",
   "execution_count": 64,
   "metadata": {},
   "outputs": [
    {
     "name": "stdout",
     "output_type": "stream",
     "text": [
      "RMSE: 212.904532\n"
     ]
    }
   ],
   "source": [
    "rmse = np.sqrt(mean_squared_error(y_test, preds))\n",
    "print(\"RMSE: %f\" % (rmse))"
   ]
  },
  {
   "cell_type": "code",
   "execution_count": 65,
   "metadata": {},
   "outputs": [],
   "source": [
    "#random forest is working best till now with accuracy of 76"
   ]
  },
  {
   "cell_type": "code",
   "execution_count": 66,
   "metadata": {},
   "outputs": [],
   "source": [
    "from sklearn.externals import joblib\n",
    "joblib.dump(forest_reg,'forest_regdoctor.obj')\n",
    "forest_reg_from_joblib=joblib.load('forest_regdoctor.obj')"
   ]
  },
  {
   "cell_type": "code",
   "execution_count": null,
   "metadata": {},
   "outputs": [],
   "source": []
  },
  {
   "cell_type": "code",
   "execution_count": null,
   "metadata": {},
   "outputs": [],
   "source": []
  },
  {
   "cell_type": "code",
   "execution_count": null,
   "metadata": {},
   "outputs": [],
   "source": []
  }
 ],
 "metadata": {
  "kernelspec": {
   "display_name": "Python 3",
   "language": "python",
   "name": "python3"
  },
  "language_info": {
   "codemirror_mode": {
    "name": "ipython",
    "version": 3
   },
   "file_extension": ".py",
   "mimetype": "text/x-python",
   "name": "python",
   "nbconvert_exporter": "python",
   "pygments_lexer": "ipython3",
   "version": "3.7.4"
  }
 },
 "nbformat": 4,
 "nbformat_minor": 2
}
